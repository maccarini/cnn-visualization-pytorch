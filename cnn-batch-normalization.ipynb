{
 "cells": [
  {
   "cell_type": "markdown",
   "metadata": {},
   "source": [
    "# Normalized Batch vs No Normalization"
   ]
  },
  {
   "cell_type": "markdown",
   "metadata": {},
   "source": [
    "This notebook contains a comparison between using batch normalization and not using it when training a CNN."
   ]
  },
  {
   "cell_type": "markdown",
   "metadata": {},
   "source": [
    "## Setup"
   ]
  },
  {
   "cell_type": "code",
   "execution_count": 12,
   "metadata": {},
   "outputs": [],
   "source": [
    "# Importing the Libraries\n",
    "\n",
    "%matplotlib inline\n",
    "import torch\n",
    "import torch.nn as nn\n",
    "import torch.optim as optim\n",
    "import torch.nn.functional as F\n",
    "\n",
    "import torchvision\n",
    "import torchvision.transforms as transforms\n",
    "\n",
    "import numpy as np\n",
    "import pandas as pd\n",
    "import matplotlib\n",
    "import matplotlib.pyplot as plt\n",
    "\n",
    "import pdb\n",
    "from itertools import product\n",
    "torch.set_printoptions(linewidth=300)"
   ]
  },
  {
   "cell_type": "code",
   "execution_count": 13,
   "metadata": {},
   "outputs": [],
   "source": [
    "# Setting the ipython display\n",
    "ipython = 'inline' in matplotlib.get_backend()\n",
    "if ipython: from IPython import display"
   ]
  },
  {
   "cell_type": "code",
   "execution_count": 14,
   "metadata": {},
   "outputs": [],
   "source": [
    "# Initializing the device\n",
    "device = device = torch.device(\"cuda\" if torch.cuda.is_available() else \"cpu\")"
   ]
  },
  {
   "cell_type": "code",
   "execution_count": 15,
   "metadata": {},
   "outputs": [],
   "source": [
    "# Loading the training set\n",
    "train_set = torchvision.datasets.FashionMNIST(\n",
    "    root='./data'\n",
    "    ,train=True\n",
    "    ,download=True\n",
    "    ,transform=transforms.Compose([\n",
    "        transforms.ToTensor()\n",
    "    ])\n",
    ")"
   ]
  },
  {
   "cell_type": "code",
   "execution_count": 17,
   "metadata": {},
   "outputs": [],
   "source": [
    "# Network Architecture (with batch normalization)\n",
    "class NetworkBN(nn.Module):\n",
    "    def __init__(self):\n",
    "        super().__init__()\n",
    "        \n",
    "        self.conv1 = nn.Sequential(\n",
    "            nn.Conv2d(1, 12, 5),         # (N, 1, 28, 28) -> (N,  12, 24, 24)\n",
    "            nn.BatchNorm2d(12),\n",
    "            nn.ReLU(),\n",
    "            nn.MaxPool2d(2, stride=2),  # (N, 12, 24, 24) -> (N,  12, 12, 12)\n",
    "        )\n",
    "        self.conv2 = nn.Sequential(\n",
    "            nn.Conv2d(12, 24, 5),        # (N, 12, 12, 12) -> (N,  24, 8, 8)\n",
    "            nn.BatchNorm2d(24),         \n",
    "            nn.ReLU(),\n",
    "            nn.MaxPool2d(2, stride=2)   # (N, 24, 8, 8) -> (N,  24, 4, 4)\n",
    "            )\n",
    "        self.fc = nn.Sequential(\n",
    "            nn.Linear(384, 120),         \n",
    "            nn.ReLU(),\n",
    "            nn.Linear(120,10)\n",
    "        )\n",
    "\n",
    "    def forward(self, t):\n",
    "\n",
    "        t = self.conv1(t)\n",
    "        t = self.conv2(t)\n",
    "        t = t.reshape(-1, 384)\n",
    "        t = self.fc(t)\n",
    "\n",
    "        return t"
   ]
  },
  {
   "cell_type": "code",
   "execution_count": 18,
   "metadata": {},
   "outputs": [],
   "source": [
    "# Network Architecture (without batch normalization)\n",
    "class Network(nn.Module):\n",
    "    def __init__(self):\n",
    "        super().__init__()\n",
    "        \n",
    "        self.conv1 = nn.Sequential(\n",
    "            nn.Conv2d(1, 12, 5),         # (N, 1, 28, 28) -> (N,  12, 24, 24)\n",
    "            nn.ReLU(),\n",
    "            nn.MaxPool2d(2, stride=2),  # (N, 12, 24, 24) -> (N,  12, 12, 12)\n",
    "        )\n",
    "        self.conv2 = nn.Sequential(\n",
    "            nn.Conv2d(12, 24, 5),        # (N, 12, 12, 12) -> (N,  24, 8, 8)\n",
    "            nn.ReLU(),\n",
    "            nn.MaxPool2d(2, stride=2)   # (N, 24, 8, 8) -> (N,  24, 4, 4)\n",
    "            )\n",
    "        self.fc = nn.Sequential(\n",
    "            nn.Linear(384, 120),         \n",
    "            nn.ReLU(),\n",
    "            nn.Linear(120,10)\n",
    "        )\n",
    "\n",
    "    def forward(self, t):\n",
    "\n",
    "        t = self.conv1(t)\n",
    "        t = self.conv2(t)\n",
    "        t = t.reshape(-1, 384)\n",
    "        t = self.fc(t)\n",
    "\n",
    "        return t"
   ]
  },
  {
   "cell_type": "code",
   "execution_count": 19,
   "metadata": {},
   "outputs": [],
   "source": [
    "# Function to get the number of correct predictions\n",
    "def num_correct(preds,labels):\n",
    "    return preds.argmax(dim=1).eq(labels).nonzero(as_tuple=True)[0].numel()"
   ]
  },
  {
   "cell_type": "code",
   "execution_count": 71,
   "metadata": {},
   "outputs": [],
   "source": [
    "# Plotting function\n",
    "def show_loss(train_losses,train_corrects,train_losses_bn,train_corrects_bn,ep):\n",
    "    fig, axs = plt.subplots(1,2)\n",
    "    plt.subplots_adjust(right=2)\n",
    "    axs[0].plot(train_losses)\n",
    "    axs[0].plot(train_losses_bn)\n",
    "    axs[0].set_ylabel('Loss')\n",
    "    axs[0].set_xlabel('Epoch')\n",
    "\n",
    "    axs[1].plot([c / len(train_set) for c in train_corrects], label='No normalization')\n",
    "    axs[1].plot([cbn / len(train_set) for cbn in train_corrects_bn], label='Normalized batch')\n",
    "    axs[1].legend(loc=\"lower right\")\n",
    "    axs[1].set_ylabel('Accuracy')\n",
    "    axs[1].set_xlabel('Epoch')\n",
    "\n",
    "    plt.pause(0.001)\n",
    "\n",
    "    if ipython: display.clear_output(wait=True)"
   ]
  },
  {
   "cell_type": "markdown",
   "metadata": {},
   "source": [
    "## Training the Network"
   ]
  },
  {
   "cell_type": "code",
   "execution_count": 73,
   "metadata": {
    "scrolled": true
   },
   "outputs": [
    {
     "data": {
      "image/png": "[encoded data removed]",
      "text/plain": [
       "<Figure size 432x288 with 2 Axes>"
      ]
     },
     "metadata": {
      "needs_background": "light"
     },
     "output_type": "display_data"
    }
   ],
   "source": [
    "net = Network().to(device)\n",
    "netbn = NetworkBN().to(device)\n",
    "\n",
    "train_loader = torch.utils.data.DataLoader(train_set\n",
    ",batch_size=100\n",
    ",shuffle=True\n",
    ")\n",
    "\n",
    "optimizer = optim.Adam(params=net.parameters(), lr=0.001)\n",
    "optimizerbn = optim.Adam(params=netbn.parameters(), lr=0.001)\n",
    "\n",
    "# Lists of training results\n",
    "train_losses = []\n",
    "train_corrects = []\n",
    "train_losses_bn = []\n",
    "train_corrects_bn = []\n",
    "\n",
    "\n",
    "# Training Loop\n",
    "for e in range(15):\n",
    "    train_loss = 0\n",
    "    total_train_correct = 0\n",
    "    train_loss_bn = 0\n",
    "    total_train_correct_bn = 0\n",
    "\n",
    "    # No batch normalization iteration\n",
    "    for batch in train_loader:\n",
    "        images, labels = batch\n",
    "        images = images.to(device)\n",
    "        labels = labels.to(device)\n",
    "        preds = net(images)\n",
    "\n",
    "        loss = F.cross_entropy(preds, labels)\n",
    "        optimizer.zero_grad()\n",
    "        loss.backward()\n",
    "        optimizer.step()\n",
    "        train_loss += loss.item() / 100\n",
    "        total_train_correct += num_correct(preds,labels)\n",
    "    \n",
    "    # Normalized batch iteration\n",
    "    for batch in train_loader:\n",
    "        images, labels = batch\n",
    "        images = images.to(device)\n",
    "        labels = labels.to(device)\n",
    "        preds = netbn(images)\n",
    "\n",
    "        loss = F.cross_entropy(preds, labels)\n",
    "        optimizerbn.zero_grad()\n",
    "        loss.backward()\n",
    "        optimizerbn.step()\n",
    "        train_loss_bn += loss.item() / 100\n",
    "        total_train_correct_bn += num_correct(preds,labels)\n",
    "    \n",
    "    train_losses.append(train_loss)\n",
    "    train_corrects.append(total_train_correct)\n",
    "    train_losses_bn.append(train_loss_bn)\n",
    "    train_corrects_bn.append(total_train_correct_bn)\n",
    "\n",
    "    \n",
    "    show_loss(train_losses,train_corrects,train_losses_bn,train_corrects_bn,e)"
   ]
  },
  {
   "cell_type": "markdown",
   "metadata": {},
   "source": [
    "#### Saving the model"
   ]
  },
  {
   "cell_type": "code",
   "execution_count": null,
   "metadata": {},
   "outputs": [],
   "source": [
    "# torch.save(net.state_dict(), 'model.pt')"
   ]
  },
  {
   "cell_type": "markdown",
   "metadata": {},
   "source": [
    "#### Loading the model"
   ]
  },
  {
   "cell_type": "code",
   "execution_count": 1,
   "metadata": {},
   "outputs": [],
   "source": [
    "# net = Network().to(device)\n",
    "# net.load_state_dict(torch.load('model.pt'))\n",
    "# net.eval()"
   ]
  }
 ],
 "metadata": {
  "kernelspec": {
   "display_name": "Python 3",
   "language": "python",
   "name": "python3"
  },
  "language_info": {
   "codemirror_mode": {
    "name": "ipython",
    "version": 3
   },
   "file_extension": ".py",
   "mimetype": "text/x-python",
   "name": "python",
   "nbconvert_exporter": "python",
   "pygments_lexer": "ipython3",
   "version": "3.7.5"
  }
 },
 "nbformat": 4,
 "nbformat_minor": 2
}
